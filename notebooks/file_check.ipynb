{
 "cells": [
  {
   "cell_type": "code",
   "execution_count": 1,
   "metadata": {},
   "outputs": [],
   "source": [
    "import os \n",
    "import pandas as pd\n",
    "import numpy as np"
   ]
  },
  {
   "cell_type": "code",
   "execution_count": 2,
   "metadata": {},
   "outputs": [],
   "source": [
    "path = \"../data/condor_out/\"\n",
    "#get all files in the directory\n",
    "files = os.listdir(path)\n",
    "good_files = []\n",
    "bad_files = []\n",
    "for file in files:\n",
    "    if not file.endswith(\".out\"):\n",
    "        continue\n",
    "    with open(path+file, 'r') as f:\n",
    "        lines = f.readlines()\n",
    "        last_line = lines[-1].strip()\n",
    "        if last_line == \"Done\":\n",
    "            good_files.append(file)\n",
    "        else:\n",
    "            bad_files.append(file)\n",
    "            \n",
    "        "
   ]
  },
  {
   "cell_type": "code",
   "execution_count": 3,
   "metadata": {},
   "outputs": [
    {
     "name": "stdout",
     "output_type": "stream",
     "text": [
      "Good files:  126\n",
      "Bad files:  0\n"
     ]
    }
   ],
   "source": [
    "print(\"Good files: \", len(good_files))\n",
    "print(\"Bad files: \", len(bad_files))"
   ]
  }
 ],
 "metadata": {
  "kernelspec": {
   "display_name": "base",
   "language": "python",
   "name": "python3"
  },
  "language_info": {
   "codemirror_mode": {
    "name": "ipython",
    "version": 3
   },
   "file_extension": ".py",
   "mimetype": "text/x-python",
   "name": "python",
   "nbconvert_exporter": "python",
   "pygments_lexer": "ipython3",
   "version": "3.10.12"
  }
 },
 "nbformat": 4,
 "nbformat_minor": 2
}
