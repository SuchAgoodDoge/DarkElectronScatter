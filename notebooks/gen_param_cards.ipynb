{
 "cells": [
  {
   "cell_type": "markdown",
   "metadata": {},
   "source": [
    "# Generate Only Parameter Cards\n",
    "For batch running on noether. Also see alex_jobsub.sh or whatever I rename it to."
   ]
  },
  {
   "cell_type": "code",
   "execution_count": 6,
   "metadata": {},
   "outputs": [],
   "source": [
    "import os\n",
    "import numpy as np"
   ]
  },
  {
   "cell_type": "markdown",
   "metadata": {},
   "source": [
    "### Code"
   ]
  },
  {
   "cell_type": "code",
   "execution_count": 7,
   "metadata": {},
   "outputs": [],
   "source": [
    "def generate_paramater_card(ma, dm_mass, neutral_meson):\n",
    "    \"\"\"Generate a parameter card for this ma and dt_ratio\n",
    "\n",
    "    Args:\n",
    "        ma (str): mass of the dark photon\n",
    "        dm_mass (str): mass of the dark matter particle (chi)\n",
    "        neutral_meson (str): the neutral meson that produces the chi particles\n",
    "    Returns:\n",
    "        param_card_name (str): the name of the parameter card file\n",
    "    \"\"\"\n",
    "\n",
    "    new_param_card = \"\"\n",
    "    with open(\"../Noether/example.dat\", \"r\") as f:\n",
    "        for line in f:\n",
    "            if \"#\" in line:\n",
    "                # skip comments but include them in the new file\n",
    "                # (there may be the word \"run\" in comments?)\n",
    "                new_param_card += line\n",
    "            elif \"samplesize\" in line[0:15]: \n",
    "                new_line = \"samplesize \" + str(NUM_DARK_SCALARS) + \"\\n\"\n",
    "                new_param_card += new_line\n",
    "            elif \"dark_matter_mass\" in line[0:16]:\n",
    "                new_line = \"dark_matter_mass \" + str(dm_mass) + \"\\n\"\n",
    "                new_param_card += new_line\n",
    "            elif \"dark_photon_mass\" in line[0:20]:\n",
    "                new_line = \"dark_photon_mass \" + str(ma) + \"\\n\"\n",
    "                new_param_card += new_line\n",
    "            elif \"root_file\" == line[0:9]:\n",
    "                new_line = \"root_file \" + f\"/gluster/data/microboone/electron_scatter/{CHI_TYPE}/{neutral_meson}_{CHI_TYPE}_ma_{ma}_dt_{DT_RATIO_STR}.root\\n\"\n",
    "                new_param_card += new_line\n",
    "            elif \"decay_type\" in line[0:12]:\n",
    "                new_line = \"decay_type \" + CHI_TYPE + \"\\n\"\n",
    "                new_param_card += new_line\n",
    "            elif \"production_channel\" in line:\n",
    "                new_line = \"production_channel \" + neutral_meson + \"_decay\\n\"\n",
    "                new_param_card += new_line\n",
    "            elif \"particle_list_file\" in line:\n",
    "                new_line = f\"particle_list_file ../../../neutral_meson_flux/{neutral_meson}s.dat\\n\"\n",
    "                new_param_card += new_line\n",
    "            elif \"summary_file\" in line[0:14]:\n",
    "                new_line = \"summary_file bdnmc_summary.dat\\n\"\n",
    "                new_param_card += new_line\n",
    "            elif (\"particle_list_weight\" in line) and (neutral_meson==\"eta\"):\n",
    "                new_line = \"particle_list_weight true\\nmeson_per_pi0 0.09781263276\\n\\n\"\n",
    "                new_param_card += new_line\n",
    "            elif (\"particle_list_weight\" in line) and (neutral_meson==\"pi0\"):\n",
    "                new_line = \"particle_list_weight true\\nmeson_per_pi0 1\\n\\n\"\n",
    "                new_param_card += new_line\n",
    "            else:\n",
    "                new_param_card += line\n",
    "    \n",
    "    # write the new_parameter_card to a .dat file\n",
    "    param_card_id = f\"../Noether/{CHI_TYPE}/{neutral_meson}_{CHI_TYPE}_ma_{ma}_dt_{DT_RATIO_STR}.dat\"\n",
    "    with open(param_card_id, \"w\") as f:\n",
    "        f.write(new_param_card)\n",
    "    \n",
    "    param_card_name = f\"{CHI_TYPE}/{neutral_meson}_{CHI_TYPE}_ma_{ma}_dt_{DT_RATIO_STR}.dat\"\n",
    "    return param_card_name"
   ]
  },
  {
   "cell_type": "markdown",
   "metadata": {},
   "source": [
    "### Math Check\n",
    "\n",
    "$$ dt = M_\\chi / M_{A'} $$\n",
    "$$ M_\\eta > 2 M_\\chi $$\n",
    "$$ \\therefore M_\\eta > 2 \\times dt \\times M_{A'}$$\n",
    "$$ \\therefore \\text{max}(M_{A'}) < \\frac{M_\\eta}{2 \\times dt} $$\n",
    "\n",
    "(And similar for $M_\\pi$)"
   ]
  },
  {
   "cell_type": "code",
   "execution_count": 8,
   "metadata": {},
   "outputs": [],
   "source": [
    "def gen_mass_points(dt_ratio, neutral_meson):\n",
    "    \"\"\"\n",
    "     * We want to generate files at sensible mass points.\n",
    "     * But limits are effected by dt ratio\n",
    "     * This is limited too the mass of an eta > 2 * m_chi\n",
    "     * dt_ratio = m_chi / m_A'\n",
    "     * so m_A'_max = m_chi / dt_ratio\n",
    "\n",
    "    Returns:\n",
    "        list : generated mass points\n",
    "    \"\"\"\n",
    "    m_eta_meson = 0.547 # GeV (actually 0.547862, round slightly down to be safe)\n",
    "    m_pi0_meson = 0.1349\n",
    "    min_ma = 0.01 # GeV so 10 MeV\n",
    "    \n",
    "    if neutral_meson == \"pi0\":\n",
    "        ma_max = m_pi0_meson / (2.0 * dt_ratio)\n",
    "\n",
    "    elif neutral_meson == \"eta\":\n",
    "        ma_max = m_eta_meson / (2.0 * dt_ratio)\n",
    "        \n",
    "    else:\n",
    "        print(\"err: invalid neutral meson string\")\n",
    "        return -999.9\n",
    "\n",
    "\n",
    "    # generate mass points\n",
    "    # we want 10 in the range 0.01 to 0.1\n",
    "    # and 1 every 0.05 from 0.1 to ma_max\n",
    "    if ma_max < 0.1:\n",
    "        mass_points = np.arange(min_ma, ma_max, 0.01).tolist()\n",
    "    else:\n",
    "        mass_points = np.arange(min_ma, 0.1, 0.01).tolist()\n",
    "        mass_points += np.arange(0.1, ma_max, 0.1).tolist()\n",
    "\n",
    "    # round each mass point to 2 decimal places\n",
    "    \n",
    "    mass_points = [round(ma, 2) for ma in mass_points]\n",
    "    \n",
    "    #order numbers in ascending order\n",
    "    mass_points.sort()\n",
    "    \n",
    "    return mass_points"
   ]
  },
  {
   "cell_type": "markdown",
   "metadata": {},
   "source": [
    "$$ dt = \\frac{M_\\chi}{M_{A'}}$$\n",
    "$$ M_\\chi = dt \\times M_{A'} $$"
   ]
  },
  {
   "cell_type": "code",
   "execution_count": 9,
   "metadata": {},
   "outputs": [],
   "source": [
    "def main():\n",
    "    # Need a .txt file with list of parameter cards for noether\n",
    "\n",
    "        netural_mesons = [\"pi0\", \"eta\"]\n",
    "        for meson in netural_mesons:\n",
    "            with open(f\"../Noether/card_list_{CHI_TYPE}_{meson}_{DT_RATIO_STR}.txt\", \"w\") as f:\n",
    "                mass_points = gen_mass_points(DT_RATIO, meson)\n",
    "                for ma in mass_points:\n",
    "                    dm_mass = DT_RATIO * ma\n",
    "                    param_card_id = generate_paramater_card(ma, dm_mass, meson)\n",
    "\n",
    "                    f.write(param_card_id + \"\\n\")\n",
    "\n"
   ]
  },
  {
   "cell_type": "code",
   "execution_count": 10,
   "metadata": {},
   "outputs": [
    {
     "name": "stdout",
     "output_type": "stream",
     "text": [
      "0.6\n",
      "0.33\n",
      "2.0\n",
      "0.6\n",
      "0.33\n",
      "2.0\n"
     ]
    }
   ],
   "source": [
    "PATH = os.getcwd() + \"/../../DarkTridentGen/\"\n",
    "NUM_DARK_SCALARS = 10_000\n",
    "CHI_TYPE_LIST = [\"scalar\", \"fermion\"]\n",
    "DT_RATIO_LIST = [0.6, 1./3., 2.0]\n",
    "for c in CHI_TYPE_LIST:\n",
    "    for dtr in DT_RATIO_LIST:\n",
    "        DT_RATIO = dtr\n",
    "        CHI_TYPE = c\n",
    "        DT_RATIO_STR = str(round(DT_RATIO, 2))\n",
    "        print(DT_RATIO_STR)\n",
    "        main()"
   ]
  }
 ],
 "metadata": {
  "kernelspec": {
   "display_name": "venv",
   "language": "python",
   "name": "python3"
  },
  "language_info": {
   "codemirror_mode": {
    "name": "ipython",
    "version": 3
   },
   "file_extension": ".py",
   "mimetype": "text/x-python",
   "name": "python",
   "nbconvert_exporter": "python",
   "pygments_lexer": "ipython3",
   "version": "3.10.12"
  }
 },
 "nbformat": 4,
 "nbformat_minor": 2
}
