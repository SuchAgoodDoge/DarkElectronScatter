{
 "cells": [
  {
   "cell_type": "markdown",
   "metadata": {},
   "source": [
    "# Setting Limits\n",
    "1) Make cuts on $E_e$\n",
    "2) Make cuts on background (1 shower, 0 tracks)\n",
    "3) Make cuts on $\\cos(\\theta_\\text{NuMI})$ for both\n",
    "4) Set limits\n",
    "    1) For the fixed $M_\\chi/M_{A'}$ case\n",
    "    2) For the fixed $M_\\chi$ case\n",
    "    "
   ]
  },
  {
   "cell_type": "code",
   "execution_count": null,
   "metadata": {},
   "outputs": [],
   "source": [
    "import os\n",
    "import uproot3 as up3\n",
    "import pandas as pd\n",
    "import matplotlib.pyplot as plt\n",
    "import numpy as np\n",
    "import pyhf"
   ]
  }
 ],
 "metadata": {
  "kernelspec": {
   "display_name": "venv",
   "language": "python",
   "name": "python3"
  },
  "language_info": {
   "name": "python",
   "version": "3.10.12"
  }
 },
 "nbformat": 4,
 "nbformat_minor": 2
}
