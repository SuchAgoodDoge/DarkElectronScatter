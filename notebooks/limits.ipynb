{
 "cells": [
  {
   "cell_type": "markdown",
   "metadata": {},
   "source": [
    "# Setting Limits\n",
    "1) Make cuts on $E_e$\n",
    "2) Make cuts on background (1 shower, 0 tracks)\n",
    "3) Make cuts on $\\cos(\\theta_\\text{NuMI})$ for both\n",
    "4) Set limits\n",
    "    1) For the fixed $M_\\chi/M_{A'}$ case\n",
    "    2) For the fixed $M_\\chi$ case\n",
    "    "
   ]
  },
  {
   "cell_type": "code",
   "execution_count": 4,
   "metadata": {},
   "outputs": [],
   "source": [
    "import os\n",
    "import uproot3 as up3\n",
    "import pandas as pd\n",
    "import matplotlib.pyplot as plt\n",
    "import numpy as np\n",
    "import pyhf\n",
    "import sys\n",
    "sys.path.append(\"../\")\n",
    "from src.data import load_root_file\n",
    "from src.transforms import rotate_to_microboone, translate_to_microboone\n",
    "\n",
    "dm_types = [\"scalar\", \"fermion\"]"
   ]
  },
  {
   "cell_type": "code",
   "execution_count": 3,
   "metadata": {},
   "outputs": [],
   "source": [
    "# Cuts\n",
    "E_e_min = 0.1 # GeV from ...\n",
    "cos_theta_numi_cuts = [0.55, 0.85] # should probably study this AFTER E_e cut"
   ]
  },
  {
   "cell_type": "markdown",
   "metadata": {},
   "source": [
    "### Backgrounds"
   ]
  },
  {
   "cell_type": "code",
   "execution_count": null,
   "metadata": {},
   "outputs": [],
   "source": [
    "CUT_SHOWERS = 1\n",
    "CUT_TRACKS = 0\n",
    "\n",
    "vars = ['reco_asso_showers', 'reco_asso_tracks', 'reco_shower_dirx', 'reco_shower_diry', 'reco_shower_dirz', 'reco_shower_energy_max']\n",
    "bkg_path = \"../data/root/background/\"\n",
    "\n",
    "def cuts(df):\n",
    "    # for now, 0 tracks, 1 shower\n",
    "    df = df[df['reco_asso_showers'] == CUT_SHOWERS]\n",
    "    df = df[df['reco_asso_tracks'] == CUT_TRACKS]\n",
    "    return df\n",
    "\n",
    "\n",
    "bkg_incryo_df = pd.concat([load_root_file(\"run1_NuMI_nu_overlay_with_weights.root\", bkg_path, vars, cuts, 10_000, 'vertex_tree;269'), \n",
    "                          load_root_file(\"run1_NuMI_nu_overlay_with_weights.root\", bkg_path, vars, cuts, 10_000, 'vertex_tree;268')])\n",
    "bkg_dirt_df = pd.concat([load_root_file(\"run1_NuMI_dirt_with_weights.root\", bkg_path, vars, cuts, 10_000, 'vertex_tree;127'),\n",
    "                        load_root_file(\"run1_NuMI_dirt_with_weights.root\", bkg_path, vars, cuts, 10_000, 'vertex_tree;126')])\n",
    "bkg_beamoff_df = load_root_file(\"run1_NuMI_offbeam_full_set_sp.root\", bkg_path, vars, cuts, 10_000, \"singlephotonana\")\n",
    "\n",
    "bkg_total = pd.concat([bkg_incryo_df, bkg_dirt_df, bkg_beamoff_df])\n",
    "display(bkg_total.head())"
   ]
  },
  {
   "cell_type": "markdown",
   "metadata": {},
   "source": [
    "### Fixed $M_\\chi/M_{A'}$"
   ]
  },
  {
   "cell_type": "code",
   "execution_count": null,
   "metadata": {},
   "outputs": [],
   "source": [
    "data_dir = \"../data/root/BdNMC/\"\n",
    "\n",
    "for dm_type in dm_types:\n",
    "    for file in os.listdir(data_dir+dm_type+\"/\"):\n",
    "        with up3.open(data_dir+dm_type+\"/\"+file) as f:\n",
    "            if f.keys() == []:\n",
    "                continue\n",
    "            \n",
    "            # Get the electron event trees"
   ]
  },
  {
   "cell_type": "markdown",
   "metadata": {},
   "source": [
    "### Fixed $M_\\chi$\n",
    "1) Read the .out files to check for line \"in Off-Shell mode\" or \"in On-Shell mode\"\n",
    "2) for now, ignore \"on shell\" files (we dont know that they are handelled correctly)\n",
    "3) Set Limits"
   ]
  },
  {
   "cell_type": "code",
   "execution_count": null,
   "metadata": {},
   "outputs": [],
   "source": [
    "# Get list of data files\n",
    "data_dir = \"../data/root/BdNMC/fixed_Mchi/\"\n",
    "fnames = []\n",
    "for dmt in dm_types:\n",
    "    for file in os.listdir(data_dir+\"/\"+dmt+\"/\"):\n",
    "        if file.endswith(\".root\"):\n",
    "            meson = file.split(\"_\")[0]\n",
    "            ma = file.split(\"_\")[3]\n",
    "            mchi = file.split(\"_\")[5]\n",
    "            fnames.append((dmt, meson, ma, mchi, file, True))\n",
    "\n",
    "fnames = pd.DataFrame(fnames, columns=[\"dm_type\", \"meson\", \"ma\", \"mchi\", \"file\", \"Off Shell\"])\n",
    "\n",
    "# go through the .out files\n",
    "# e.g nodefixed_Mchi__pi0_scalar_ma_0.09_mchi_0.001.out\n",
    "out_path = \"../data/out/fixed_Mchi/\"\n",
    "for file in fnames:\n",
    "    try:\n",
    "        with open(out_path+\"nodefixed_Mchi__\") as f:\n",
    "            for line in f:\n",
    "                if \"Off-Shell\" in line:\n",
    "                    print(line)\n",
    "                    # FINISH THIS!\n",
    "                elif \"On-Shell\" in line:\n",
    "                    print(file, line)\n",
    "                    fnames[file, \"Off Shell\"] = False # idk if this works need to check later\n",
    "    except:\n",
    "        print(\"File not found\", file)\n"
   ]
  }
 ],
 "metadata": {
  "kernelspec": {
   "display_name": "venv",
   "language": "python",
   "name": "python3"
  },
  "language_info": {
   "codemirror_mode": {
    "name": "ipython",
    "version": 3
   },
   "file_extension": ".py",
   "mimetype": "text/x-python",
   "name": "python",
   "nbconvert_exporter": "python",
   "pygments_lexer": "ipython3",
   "version": "3.10.12"
  }
 },
 "nbformat": 4,
 "nbformat_minor": 2
}
