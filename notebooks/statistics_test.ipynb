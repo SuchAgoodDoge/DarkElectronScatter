{
 "cells": [
  {
   "cell_type": "code",
   "execution_count": 67,
   "metadata": {},
   "outputs": [],
   "source": [
    "import random\n",
    "\n",
    "chi_prob = 10000/80000000\n",
    "int_prob = 600/10000\n",
    "\n",
    "class meson():\n",
    "    def __init__(self,wheight):\n",
    "        self.wheight = wheight\n",
    "        random_number = random.gauss(1, 1)\n",
    "        random_number = abs(random_number)\n",
    "        self.int_prob = random_number*int_prob\n",
    "        random_number = random.gauss(1, 1)\n",
    "        random_number = abs(random_number)\n",
    "        self.chi_prob = random_number*chi_prob\n",
    "class alt_meson():\n",
    "    def __init__(self,wheight,int_probabilty,chi_probabilty):\n",
    "        self.wheight = wheight\n",
    "        self.chi_prob = int_probabilty\n",
    "        self.int_prob = chi_probabilty"
   ]
  },
  {
   "cell_type": "code",
   "execution_count": 48,
   "metadata": {},
   "outputs": [],
   "source": [
    "file_path = '../data/flux/pi0s.dat'\n",
    "mesons = []\n",
    "with open(file_path, 'r') as file:\n",
    "    for line in file:\n",
    "        \n",
    "        \n",
    "        mesons.append(meson(float(line.split(\" \")[-2])))\n",
    "        \n",
    "\n",
    "        \n",
    "        \n"
   ]
  },
  {
   "cell_type": "code",
   "execution_count": 49,
   "metadata": {},
   "outputs": [
    {
     "data": {
      "text/plain": [
       "1525299"
      ]
     },
     "execution_count": 49,
     "metadata": {},
     "output_type": "execute_result"
    }
   ],
   "source": [
    "len(mesons)"
   ]
  },
  {
   "cell_type": "code",
   "execution_count": 68,
   "metadata": {},
   "outputs": [],
   "source": [
    "trials = 0\n",
    "i = 0\n",
    "electrons = 0\n",
    "electrons_wheighted = 0\n",
    "dec_hits = 0\n",
    "dec_hits_wheighted = 0\n",
    "while dec_hits < 10000:\n",
    "    trials += 1\n",
    "    particle = mesons[i]\n",
    "    random_number = random.random()\n",
    "    if random_number < particle.chi_prob:\n",
    "        dec_hits += 1\n",
    "        dec_hits_wheighted += particle.wheight\n",
    "        random_number = random.random()\n",
    "        if random_number < particle.int_prob:\n",
    "            electrons += 1\n",
    "            electrons_wheighted += particle.wheight\n",
    "    i+=1\n",
    "    if i == len(mesons):\n",
    "        i = 0\n",
    "    \n",
    "        "
   ]
  },
  {
   "cell_type": "code",
   "execution_count": 69,
   "metadata": {},
   "outputs": [
    {
     "name": "stdout",
     "output_type": "stream",
     "text": [
      "10000 110181.9272561415 543 5638.730534449996 89741412\n"
     ]
    }
   ],
   "source": [
    "print(dec_hits,dec_hits_wheighted, electrons, electrons_wheighted,  trials)"
   ]
  },
  {
   "cell_type": "code",
   "execution_count": 70,
   "metadata": {},
   "outputs": [
    {
     "name": "stdout",
     "output_type": "stream",
     "text": [
      "0.09075898606087056 0.0962982708044878\n"
     ]
    }
   ],
   "source": [
    "dec_hit_ratio = dec_hits/dec_hits_wheighted\n",
    "electron_hit_ratio = electrons/electrons_wheighted\n",
    "print(dec_hit_ratio, electron_hit_ratio)"
   ]
  },
  {
   "cell_type": "code",
   "execution_count": 71,
   "metadata": {},
   "outputs": [
    {
     "name": "stdout",
     "output_type": "stream",
     "text": [
      "1.0610329068672288\n"
     ]
    }
   ],
   "source": [
    "overall_ratio = electron_hit_ratio/dec_hit_ratio\n",
    "print(overall_ratio)"
   ]
  },
  {
   "cell_type": "code",
   "execution_count": 64,
   "metadata": {},
   "outputs": [],
   "source": [
    "alt_mesons = []\n",
    "with open(file_path, 'r') as file:\n",
    "    for line in file:\n",
    "        repeats = int(float(line.split(\" \")[-2]))\n",
    "        random_number = random.gauss(0.5, 1)\n",
    "        random_number = abs(random_number)\n",
    "        int_prob = random_number*int_prob\n",
    "        random_number = random.gauss(0.5, 1)\n",
    "        random_number = abs(random_number)\n",
    "        chi_prob = random_number*chi_prob\n",
    "        for i in range(repeats):\n",
    "            alt_mesons.append(alt_meson(1, int_prob, chi_prob))\n"
   ]
  },
  {
   "cell_type": "code",
   "execution_count": 66,
   "metadata": {},
   "outputs": [
    {
     "ename": "KeyboardInterrupt",
     "evalue": "",
     "output_type": "error",
     "traceback": [
      "\u001b[0;31m---------------------------------------------------------------------------\u001b[0m",
      "\u001b[0;31mKeyboardInterrupt\u001b[0m                         Traceback (most recent call last)",
      "Cell \u001b[0;32mIn[66], line 9\u001b[0m\n\u001b[1;32m      7\u001b[0m particle \u001b[38;5;241m=\u001b[39m alt_mesons[i]\n\u001b[1;32m      8\u001b[0m random_number \u001b[38;5;241m=\u001b[39m random\u001b[38;5;241m.\u001b[39mrandom()\n\u001b[0;32m----> 9\u001b[0m \u001b[38;5;28;01mif\u001b[39;00m random_number \u001b[38;5;241m<\u001b[39m particle\u001b[38;5;241m.\u001b[39mchi_prob:\n\u001b[1;32m     10\u001b[0m     alt_dec_hits \u001b[38;5;241m+\u001b[39m\u001b[38;5;241m=\u001b[39m \u001b[38;5;241m1\u001b[39m\n\u001b[1;32m     11\u001b[0m     random_number \u001b[38;5;241m=\u001b[39m random\u001b[38;5;241m.\u001b[39mrandom()\n",
      "\u001b[0;31mKeyboardInterrupt\u001b[0m: "
     ]
    }
   ],
   "source": [
    "alt_trials = 0\n",
    "i = 0\n",
    "alt_electrons = 0\n",
    "alt_dec_hits = 0\n",
    "while alt_dec_hits< 113020:\n",
    "    alt_trials += 1\n",
    "    particle = alt_mesons[i]\n",
    "    random_number = random.random()\n",
    "    if random_number < particle.chi_prob:\n",
    "        alt_dec_hits += 1\n",
    "        random_number = random.random()\n",
    "        if random_number < particle.int_prob:\n",
    "            alt_electrons += 1\n",
    "    i+=1\n",
    "    if i == len(alt_mesons):\n",
    "        i = 0"
   ]
  },
  {
   "cell_type": "code",
   "execution_count": null,
   "metadata": {},
   "outputs": [],
   "source": [
    "print(alt_dec_hits, alt_electrons, alt_trials)"
   ]
  },
  {
   "cell_type": "code",
   "execution_count": null,
   "metadata": {},
   "outputs": [],
   "source": [
    "print(electrons/alt_electrons)"
   ]
  }
 ],
 "metadata": {
  "kernelspec": {
   "display_name": "base",
   "language": "python",
   "name": "python3"
  },
  "language_info": {
   "codemirror_mode": {
    "name": "ipython",
    "version": 3
   },
   "file_extension": ".py",
   "mimetype": "text/x-python",
   "name": "python",
   "nbconvert_exporter": "python",
   "pygments_lexer": "ipython3",
   "version": "3.10.12"
  }
 },
 "nbformat": 4,
 "nbformat_minor": 2
}
