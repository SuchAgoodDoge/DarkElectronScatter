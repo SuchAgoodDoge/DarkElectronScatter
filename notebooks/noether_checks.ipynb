{
 "cells": [
  {
   "cell_type": "markdown",
   "metadata": {},
   "source": [
    "# Noether Checks\n",
    "\n",
    "Check that the BdNMC runs on Noether performed nominally"
   ]
  },
  {
   "cell_type": "code",
   "execution_count": 3,
   "metadata": {},
   "outputs": [],
   "source": [
    "import uproot3 as up3\n",
    "import numpy as np\n",
    "import pandas as pd\n",
    "import os"
   ]
  },
  {
   "cell_type": "markdown",
   "metadata": {},
   "source": [
    "* Checks for missing .root files\n",
    "* Checks for missing .log / .out / .err / .sub files\n",
    "    * Check .sub file matches .root file params\n",
    "* Reads all the .log / .out / .err files for each job, checks for errors\n",
    "* Reads the root files, checks\n",
    "    * N_chi > 10_000\n",
    "    * Ma / mchi = dt ratio of file\n",
    "    * Anything else\n"
   ]
  },
  {
   "cell_type": "markdown",
   "metadata": {},
   "source": [
    "### Check For Missing .ROOT Files"
   ]
  },
  {
   "cell_type": "code",
   "execution_count": 4,
   "metadata": {},
   "outputs": [
    {
     "name": "stdout",
     "output_type": "stream",
     "text": [
      "['card_list_fermion_pi0_0.6.txt', 'card_list_scalar_eta_0.6.txt', 'card_list_fermion_eta_0.33.txt', 'card_list_fermion_eta_0.6.txt', 'card_list_scalar_pi0_0.33.txt', 'card_list_scalar_pi0_2.0.txt', 'card_list_scalar_eta_0.33.txt', 'card_list_scalar_eta_2.0.txt', 'card_list_fermion_pi0_2.0.txt', 'card_list_scalar_pi0_0.6.txt', 'card_list_fermion_pi0_0.33.txt', 'card_list_fermion_eta_2.0.txt']\n"
     ]
    },
    {
     "ename": "FileNotFoundError",
     "evalue": "[Errno 2] No such file or directory: '../data/root/BdNMC/fermion/pi0_fermion_ma_0.01_dt_0.6.root'",
     "output_type": "error",
     "traceback": [
      "\u001b[0;31m---------------------------------------------------------------------------\u001b[0m",
      "\u001b[0;31mFileNotFoundError\u001b[0m                         Traceback (most recent call last)",
      "Cell \u001b[0;32mIn[4], line 19\u001b[0m\n\u001b[1;32m     17\u001b[0m \u001b[38;5;28;01mfor\u001b[39;00m line \u001b[38;5;129;01min\u001b[39;00m lines:\n\u001b[1;32m     18\u001b[0m     root_file_name \u001b[38;5;241m=\u001b[39m line[:\u001b[38;5;241m-\u001b[39m\u001b[38;5;241m5\u001b[39m] \u001b[38;5;241m+\u001b[39m \u001b[38;5;124m\"\u001b[39m\u001b[38;5;124m.root\u001b[39m\u001b[38;5;124m\"\u001b[39m\n\u001b[0;32m---> 19\u001b[0m     \u001b[38;5;28;01mif\u001b[39;00m \u001b[38;5;129;01mnot\u001b[39;00m(\u001b[43mos\u001b[49m\u001b[38;5;241;43m.\u001b[39;49m\u001b[43mlistdir\u001b[49m\u001b[43m(\u001b[49m\u001b[38;5;124;43mf\u001b[39;49m\u001b[38;5;124;43m\"\u001b[39;49m\u001b[38;5;124;43m../data/root/BdNMC/\u001b[39;49m\u001b[38;5;132;43;01m{\u001b[39;49;00m\u001b[43mroot_file_name\u001b[49m\u001b[38;5;132;43;01m}\u001b[39;49;00m\u001b[38;5;124;43m\"\u001b[39;49m\u001b[43m)\u001b[49m):\n\u001b[1;32m     20\u001b[0m         \u001b[38;5;28mprint\u001b[39m(root_file_name, \u001b[38;5;124m\"\u001b[39m\u001b[38;5;124m not found!\u001b[39m\u001b[38;5;124m\"\u001b[39m)\n\u001b[1;32m     22\u001b[0m     \u001b[38;5;66;03m# could have a look inside the root file here too\u001b[39;00m\n",
      "\u001b[0;31mFileNotFoundError\u001b[0m: [Errno 2] No such file or directory: '../data/root/BdNMC/fermion/pi0_fermion_ma_0.01_dt_0.6.root'"
     ]
    }
   ],
   "source": [
    "# get a list of the card files that I used to generate the data\n",
    "card_list_files = []\n",
    "for file in os.listdir(\"../Noether\"):\n",
    "    if \"pi0\" in file:\n",
    "        card_list_files.append(file)\n",
    "    elif \"eta\" in file:\n",
    "        card_list_files.append(file)\n",
    "    else:\n",
    "        continue\n",
    "\n",
    "print(card_list_files)\n",
    "\n",
    "# read these files and look for a root file in data/root/bdnmc that has the same name\n",
    "for file in card_list_files:\n",
    "    with open(f\"../Noether/{file}\") as f:\n",
    "        lines = f.readlines()\n",
    "        for line in lines:\n",
    "            root_file_name = line[:-5] + \".root\"\n",
    "            if not(os.listdir(f\"../data/root/BdNMC/{root_file_name}\")):\n",
    "                print(root_file_name, \" not found!\")\n",
    "            \n",
    "            # could have a look inside the root file here too\n",
    "            with up3.open(f\"../data/root/BdNMC/{root_file_name}\") as f:\n",
    "                trees = f.keys()\n",
    "                "
   ]
  },
  {
   "cell_type": "markdown",
   "metadata": {},
   "source": [
    "### Check the log/out/err/sub files"
   ]
  },
  {
   "cell_type": "code",
   "execution_count": 1,
   "metadata": {},
   "outputs": [],
   "source": [
    "PATH = \"../data/Noether_25_03/\""
   ]
  },
  {
   "cell_type": "code",
   "execution_count": 5,
   "metadata": {},
   "outputs": [
    {
     "name": "stdout",
     "output_type": "stream",
     "text": [
      "Unknown file type:  scalar\n",
      "Unknown file type:  fermion\n"
     ]
    }
   ],
   "source": [
    "f_sub = []\n",
    "f_out = []\n",
    "f_err = []\n",
    "f_log = []\n",
    "# loop through all files in the directory\n",
    "for file in os.listdir(PATH):\n",
    "    if file.endswith(\".sub\"):\n",
    "        f_sub.append(file)\n",
    "    elif file.endswith(\".out\"):\n",
    "        f_out.append(file)\n",
    "    elif file.endswith(\".err\"):\n",
    "        f_err.append(file)\n",
    "    elif file.endswith(\".log\"):\n",
    "        f_log.append(file)\n",
    "    else:\n",
    "        print(\"Unknown file type: \", file)"
   ]
  },
  {
   "cell_type": "code",
   "execution_count": 24,
   "metadata": {},
   "outputs": [
    {
     "name": "stdout",
     "output_type": "stream",
     "text": [
      "fermion_pi0\n",
      "fermion_eta\n",
      "scalar_pi0\n",
      "scalar_eta\n"
     ]
    }
   ],
   "source": [
    "mismatch = {\"fermion_pi0\" : pd.DataFrame(columns=[\"0.33\", \"0.6\", \"2.0\"]), \n",
    "            \"fermion_eta\" : pd.DataFrame(columns=[\"0.33\", \"0.6\", \"2.0\"]),\n",
    "            \"scalar_pi0\" : pd.DataFrame(columns=[\"0.33\", \"0.6\", \"2.0\"]),\n",
    "            \"scalar_eta\" : pd.DataFrame(columns=[\"0.33\", \"0.6\", \"2.0\"])}\n",
    "\n",
    "for subf in f_sub:\n",
    "    try:\n",
    "        _, meson, chi_type, _, ma, _, dt = subf.split(\"_\")\n",
    "        dt = dt[:-4] # remove the .sub\n",
    "    except ValueError:\n",
    "        continue\n",
    "    with open(PATH + subf) as f:\n",
    "        for line in f:\n",
    "            if \"arguments\" in line:\n",
    "                meson_arg, chi_type_arg, _, ma_arg, _, dt_arg = line.split(\"/\")[1].split(\"_\")\n",
    "                dt_arg = dt_arg[:-5]\n",
    "            if \"output\" in line:\n",
    "                _, meson_out, chi_type_out, _, ma_out, _, dt_out = line.split(\"/\")[1].split(\"_\")\n",
    "    \n",
    "    if meson != meson_arg or chi_type != chi_type_arg or ma != ma_arg or dt != dt_arg:\n",
    "        #print(\"Mismatch in arguments: \", meson, meson_arg, chi_type, chi_type_arg, ma, ma_arg, dt, dt_arg)\n",
    "        mismatch[chi_type + \"_\" + meson].loc[float(ma), dt] = \"A\"\n",
    "    if meson != meson_out or chi_type != chi_type_out or ma != ma_out or dt != dt_out:\n",
    "        mismatch[chi_type + \"_\" + meson].loc[float(ma), dt] = \"O\"\n",
    "    else:\n",
    "        mismatch[chi_type + \"_\" + meson].loc[float(ma), dt] = \".\"\n",
    "\n",
    "for i in mismatch:\n",
    "    print(i)\n",
    "    #display(mismatch[i].replace(np.nan, \"_\").sort_index(ascending=True))\n",
    "    #print(\"key:\\n> A = argument mismatch\\n> O = output mismatch\\n> . = match\\n _ = missing this file\")\n"
   ]
  },
  {
   "cell_type": "markdown",
   "metadata": {},
   "source": [
    "### Noether_25_03 ROOT checks"
   ]
  },
  {
   "cell_type": "code",
   "execution_count": 47,
   "metadata": {},
   "outputs": [
    {
     "name": "stdout",
     "output_type": "stream",
     "text": [
      "No trees in file eta_fermion_ma_0.06_dt_0.33.root\n",
      "No trees in file eta_fermion_ma_0.03_dt_0.33.root\n",
      "No trees in file eta_fermion_ma_0.05_dt_0.33.root\n",
      "No trees in file eta_fermion_ma_0.01_dt_0.33.root\n",
      "No trees in file pi0_fermion_ma_0.01_dt_0.33.root\n",
      "No trees in file eta_fermion_ma_0.07_dt_0.33.root\n",
      "No trees in file pi0_fermion_ma_0.04_dt_0.33.root\n",
      "No trees in file eta_fermion_ma_0.09_dt_0.33.root\n",
      "No trees in file pi0_fermion_ma_0.02_dt_0.33.root\n",
      "No trees in file eta_fermion_ma_0.08_dt_0.33.root\n",
      "No trees in file pi0_fermion_ma_0.03_dt_0.33.root\n",
      "No trees in file eta_fermion_ma_0.01_dt_0.6.root\n",
      "No trees in file eta_fermion_ma_0.1_dt_0.33.root\n",
      "No trees in file eta_fermion_ma_0.04_dt_0.33.root\n",
      "No trees in file eta_fermion_ma_0.02_dt_0.33.root\n",
      "No trees in file pi0_scalar_ma_0.07_dt_2.0.root\n",
      "No trees in file pi0_scalar_ma_0.08_dt_2.0.root\n",
      "No trees in file pi0_scalar_ma_0.04_dt_2.0.root\n",
      "No trees in file pi0_scalar_ma_0.09_dt_2.0.root\n",
      "No trees in file pi0_scalar_ma_0.05_dt_2.0.root\n",
      "No trees in file pi0_scalar_ma_0.06_dt_2.0.root\n",
      "\n",
      "!! All root files are named correctly !!\n"
     ]
    }
   ],
   "source": [
    "def check_root_file_name_ma_dt(path):\n",
    "    incorrect_names = []\n",
    "    chi_types = [\"fermion\", \"scalar\"]\n",
    "    for c_type in chi_types:\n",
    "        for file in os.listdir(path+c_type+\"/\"):\n",
    "            if file.endswith(\".root\"):\n",
    "                #print(file)\n",
    "                with up3.open(path+c_type+\"/\"+file) as f:\n",
    "                    trees = f.keys()\n",
    "                    if trees == []:\n",
    "                        print(\"No trees in file \"+file)\n",
    "                        continue\n",
    "                    dm_mass = f[b'model_tree'][b'dm_mass'].array()\n",
    "                    dp_mass = f[b'model_tree'][b'dp_mass'].array()\n",
    "                    dt = dm_mass / dp_mass\n",
    "\n",
    "                    dt_of_file = float(file.split(\"_\")[-1][:-5])\n",
    "                    ma_of_file = float(file.split(\"_\")[-3])\n",
    "                    if dt_of_file != round(dt[0],2):\n",
    "                        print(\"Mismatch in dt: \", dt_of_file, round(dt[0],2))\n",
    "                        incorrect_names.append(file)\n",
    "                    \n",
    "                    if ma_of_file != round(dp_mass[0],2):\n",
    "                        print(\"Mismatch in ma: \", ma_of_file, round(dp_mass[0],2))\n",
    "                        incorrect_names.append(file)\n",
    "    \n",
    "    return incorrect_names\n",
    "\n",
    "fs = check_root_file_name_ma_dt(\"../data/Noether_25_03/\")\n",
    "if len(fs) == 0:\n",
    "    print(\"\\n!! All root files are named correctly !!\")\n",
    "else:\n",
    "    print(\"\\n!! Some root files are named incorrectly !!\")\n",
    "    print(fs)"
   ]
  }
 ],
 "metadata": {
  "kernelspec": {
   "display_name": "venv",
   "language": "python",
   "name": "python3"
  },
  "language_info": {
   "codemirror_mode": {
    "name": "ipython",
    "version": 3
   },
   "file_extension": ".py",
   "mimetype": "text/x-python",
   "name": "python",
   "nbconvert_exporter": "python",
   "pygments_lexer": "ipython3",
   "version": "3.10.12"
  }
 },
 "nbformat": 4,
 "nbformat_minor": 2
}
