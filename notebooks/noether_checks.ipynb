{
 "cells": [
  {
   "cell_type": "markdown",
   "metadata": {},
   "source": [
    "# Noether Checks\n",
    "\n",
    "Check that the BdNMC runs on Noether performed nominally"
   ]
  },
  {
   "cell_type": "code",
   "execution_count": 2,
   "metadata": {},
   "outputs": [],
   "source": [
    "import uproot3 as up3\n",
    "import numpy as np\n",
    "import pandas as pd\n",
    "import os"
   ]
  },
  {
   "cell_type": "markdown",
   "metadata": {},
   "source": [
    "* Checks for missing .root files\n",
    "* Checks for missing .log / .out / .err / .sub files\n",
    "    * Check .sub file matches .root file params\n",
    "* Reads all the .log / .out / .err files for each job, checks for errors\n",
    "* Reads the root files, checks\n",
    "    * N_chi > 10_000\n",
    "    * Ma / mchi = dt ratio of file\n",
    "    * Anything else\n"
   ]
  },
  {
   "cell_type": "markdown",
   "metadata": {},
   "source": [
    "### Check For Missing .ROOT Files"
   ]
  },
  {
   "cell_type": "code",
   "execution_count": 12,
   "metadata": {},
   "outputs": [
    {
     "name": "stdout",
     "output_type": "stream",
     "text": [
      "['card_list_fermion_pi0_0.6.txt', 'card_list_scalar_eta_0.6.txt', 'card_list_fermion_eta_0.33.txt', 'card_list_fermion_eta_0.6.txt', 'card_list_scalar_pi0_0.33.txt', 'card_list_scalar_pi0_2.0.txt', 'card_list_scalar_eta_0.33.txt', 'card_list_scalar_eta_2.0.txt', 'card_list_fermion_pi0_2.0.txt', 'card_list_scalar_pi0_0.6.txt', 'card_list_fermion_pi0_0.33.txt', 'card_list_fermion_eta_2.0.txt']\n"
     ]
    },
    {
     "ename": "FileNotFoundError",
     "evalue": "[Errno 2] No such file or directory: '../data/root/BdNMC/fermion/pi0_fermion_ma_0.01_dt_0.6.root'",
     "output_type": "error",
     "traceback": [
      "\u001b[0;31m---------------------------------------------------------------------------\u001b[0m",
      "\u001b[0;31mFileNotFoundError\u001b[0m                         Traceback (most recent call last)",
      "Cell \u001b[0;32mIn[12], line 19\u001b[0m\n\u001b[1;32m     17\u001b[0m \u001b[38;5;28;01mfor\u001b[39;00m line \u001b[38;5;129;01min\u001b[39;00m lines:\n\u001b[1;32m     18\u001b[0m     root_file_name \u001b[38;5;241m=\u001b[39m line[:\u001b[38;5;241m-\u001b[39m\u001b[38;5;241m5\u001b[39m] \u001b[38;5;241m+\u001b[39m \u001b[38;5;124m\"\u001b[39m\u001b[38;5;124m.root\u001b[39m\u001b[38;5;124m\"\u001b[39m\n\u001b[0;32m---> 19\u001b[0m     \u001b[38;5;28;01mif\u001b[39;00m \u001b[38;5;129;01mnot\u001b[39;00m(\u001b[43mos\u001b[49m\u001b[38;5;241;43m.\u001b[39;49m\u001b[43mlistdir\u001b[49m\u001b[43m(\u001b[49m\u001b[38;5;124;43mf\u001b[39;49m\u001b[38;5;124;43m\"\u001b[39;49m\u001b[38;5;124;43m../data/root/BdNMC/\u001b[39;49m\u001b[38;5;132;43;01m{\u001b[39;49;00m\u001b[43mroot_file_name\u001b[49m\u001b[38;5;132;43;01m}\u001b[39;49;00m\u001b[38;5;124;43m\"\u001b[39;49m\u001b[43m)\u001b[49m):\n\u001b[1;32m     20\u001b[0m         \u001b[38;5;28mprint\u001b[39m(root_file_name, \u001b[38;5;124m\"\u001b[39m\u001b[38;5;124m not found!\u001b[39m\u001b[38;5;124m\"\u001b[39m)\n\u001b[1;32m     22\u001b[0m     \u001b[38;5;66;03m# could have a look inside the root file here too\u001b[39;00m\n\u001b[1;32m     23\u001b[0m     \u001b[38;5;66;03m#f = up3.open(f\"../data/root/BdNMC/{root_file_name}\")\u001b[39;00m\n\u001b[1;32m     24\u001b[0m     \u001b[38;5;66;03m# f.close()\u001b[39;00m\n",
      "\u001b[0;31mFileNotFoundError\u001b[0m: [Errno 2] No such file or directory: '../data/root/BdNMC/fermion/pi0_fermion_ma_0.01_dt_0.6.root'"
     ]
    }
   ],
   "source": [
    "# get a list of the card files that I used to generate the data\n",
    "card_list_files = []\n",
    "for file in os.listdir(\"../Noether\"):\n",
    "    if \"pi0\" in file:\n",
    "        card_list_files.append(file)\n",
    "    elif \"eta\" in file:\n",
    "        card_list_files.append(file)\n",
    "    else:\n",
    "        continue\n",
    "\n",
    "print(card_list_files)\n",
    "\n",
    "# read these files and look for a root file in data/root/bdnmc that has the same name\n",
    "for file in card_list_files:\n",
    "    with open(f\"../Noether/{file}\") as f:\n",
    "        lines = f.readlines()\n",
    "        for line in lines:\n",
    "            root_file_name = line[:-5] + \".root\"\n",
    "            if not(os.listdir(f\"../data/root/BdNMC/{root_file_name}\")):\n",
    "                print(root_file_name, \" not found!\")\n",
    "            \n",
    "            # could have a look inside the root file here too\n",
    "            #f = up3.open(f\"../data/root/BdNMC/{root_file_name}\")\n",
    "            # f.close()"
   ]
  },
  {
   "cell_type": "markdown",
   "metadata": {},
   "source": [
    "### Check the log/out/err/sub files"
   ]
  },
  {
   "cell_type": "code",
   "execution_count": 4,
   "metadata": {},
   "outputs": [],
   "source": [
    "PATH = \"../data/condor_out/\""
   ]
  },
  {
   "cell_type": "code",
   "execution_count": 5,
   "metadata": {},
   "outputs": [
    {
     "ename": "FileNotFoundError",
     "evalue": "[Errno 2] No such file or directory: '../data/condor_out/'",
     "output_type": "error",
     "traceback": [
      "\u001b[0;31m---------------------------------------------------------------------------\u001b[0m",
      "\u001b[0;31mFileNotFoundError\u001b[0m                         Traceback (most recent call last)",
      "Cell \u001b[0;32mIn[5], line 6\u001b[0m\n\u001b[1;32m      4\u001b[0m f_log \u001b[38;5;241m=\u001b[39m []\n\u001b[1;32m      5\u001b[0m \u001b[38;5;66;03m# loop through all files in the directory\u001b[39;00m\n\u001b[0;32m----> 6\u001b[0m \u001b[38;5;28;01mfor\u001b[39;00m file \u001b[38;5;129;01min\u001b[39;00m \u001b[43mos\u001b[49m\u001b[38;5;241;43m.\u001b[39;49m\u001b[43mlistdir\u001b[49m\u001b[43m(\u001b[49m\u001b[43mPATH\u001b[49m\u001b[43m)\u001b[49m:\n\u001b[1;32m      7\u001b[0m     \u001b[38;5;28;01mif\u001b[39;00m file\u001b[38;5;241m.\u001b[39mendswith(\u001b[38;5;124m\"\u001b[39m\u001b[38;5;124m.sub\u001b[39m\u001b[38;5;124m\"\u001b[39m):\n\u001b[1;32m      8\u001b[0m         f_sub\u001b[38;5;241m.\u001b[39mappend(file)\n",
      "\u001b[0;31mFileNotFoundError\u001b[0m: [Errno 2] No such file or directory: '../data/condor_out/'"
     ]
    }
   ],
   "source": [
    "f_sub = []\n",
    "f_out = []\n",
    "f_err = []\n",
    "f_log = []\n",
    "# loop through all files in the directory\n",
    "for file in os.listdir(PATH):\n",
    "    if file.endswith(\".sub\"):\n",
    "        f_sub.append(file)\n",
    "    elif file.endswith(\".out\"):\n",
    "        f_out.append(file)\n",
    "    elif file.endswith(\".err\"):\n",
    "        f_err.append(file)\n",
    "    elif file.endswith(\".log\"):\n",
    "        f_log.append(file)\n",
    "    else:\n",
    "        print(\"Unknown file type: \", file)"
   ]
  }
 ],
 "metadata": {
  "kernelspec": {
   "display_name": "venv",
   "language": "python",
   "name": "python3"
  },
  "language_info": {
   "codemirror_mode": {
    "name": "ipython",
    "version": 3
   },
   "file_extension": ".py",
   "mimetype": "text/x-python",
   "name": "python",
   "nbconvert_exporter": "python",
   "pygments_lexer": "ipython3",
   "version": "3.10.12"
  }
 },
 "nbformat": 4,
 "nbformat_minor": 2
}
