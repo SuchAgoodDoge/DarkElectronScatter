{
 "cells": [
  {
   "cell_type": "code",
   "execution_count": 13,
   "metadata": {},
   "outputs": [],
   "source": [
    "import os\n",
    "import numpy as np"
   ]
  },
  {
   "cell_type": "code",
   "execution_count": 14,
   "metadata": {},
   "outputs": [],
   "source": [
    "neutral_meson = \"pi0\"\n",
    "ma = \"0.07\"\n",
    "DT_RATIO_STR = \"0.33\"\n",
    "def generate_paramater_card(NUM_DARK_SCALARS, CHI_TYPE):\n",
    "    \"\"\"Generate a parameter card for this ma and dt_ratio\n",
    "\n",
    "    Args:\n",
    "        ma (str): mass of the dark photon\n",
    "        dm_mass (str): mass of the dark matter particle (chi)\n",
    "        neutral_meson (str): the neutral meson that produces the chi particles\n",
    "    Returns:\n",
    "        param_card_name (str): the name of the parameter card file\n",
    "    \"\"\"\n",
    "\n",
    "\n",
    "\n",
    "    new_param_card = \"\"\n",
    "    with open(f\"../Noether/signal_out_test/example/pi0_{CHI_TYPE}_ma_0.07_dt_0.33.dat\", \"r\") as f:\n",
    "        for line in f:\n",
    "            if \"#\" in line:\n",
    "                # skip comments but include them in the new file\n",
    "                # (there may be the word \"run\" in comments?)\n",
    "                new_param_card += line\n",
    "            elif \"samplesize\" in line[0:15]: \n",
    "                new_line = \"samplesize \" + str(NUM_DARK_SCALARS) + \"\\n\"\n",
    "                new_param_card += new_line\n",
    "            elif \"root_file\" == line[0:9]:\n",
    "                new_line = \"root_file \" + f\"/gluster/data/microboone/electron_scatter/signal_counts/{CHI_TYPE}/n_chi_gen_{NUM_DARK_SCALARS}.root\\n\"\n",
    "                new_param_card += new_line\n",
    "            else:\n",
    "                new_param_card += line\n",
    "    \n",
    "    # write the new_parameter_card to a .dat file\n",
    "    param_card_id = f\"../Noether/signal_out_test/{CHI_TYPE}/{neutral_meson}_{CHI_TYPE}_ma_{ma}_dt_{DT_RATIO_STR}_{NUM_DARK_SCALARS}.dat\"\n",
    "    with open(param_card_id, \"w\") as f:\n",
    "        f.write(new_param_card)\n",
    "    \n",
    "    param_card_name = f\"{CHI_TYPE}/{neutral_meson}_{CHI_TYPE}_ma_{ma}_dt_{DT_RATIO_STR}_{NUM_DARK_SCALARS}.dat\"\n",
    "    return param_card_name"
   ]
  },
  {
   "cell_type": "code",
   "execution_count": 15,
   "metadata": {},
   "outputs": [],
   "source": [
    "def main():\n",
    "    # Need a .txt file with list of parameter cards for noether\n",
    "\n",
    "    nchis = np.linspace(1000, 25_000, 24)\n",
    "    for CHI_TYPE in [\"scalar\", \"fermion\"]:\n",
    "        with open(f\"../Noether/card_list_{CHI_TYPE}_signal_number_test.txt\", \"w\") as f:\n",
    "            for NUM_DARK_SCALARS in nchis: \n",
    "                param_card_id = generate_paramater_card(int(NUM_DARK_SCALARS), CHI_TYPE)\n",
    "                f.write(param_card_id + \"\\n\")\n",
    "\n"
   ]
  },
  {
   "cell_type": "code",
   "execution_count": 16,
   "metadata": {},
   "outputs": [],
   "source": [
    "PATH = os.getcwd() + \"/../../DarkTridentGen/\"\n",
    "main()"
   ]
  }
 ],
 "metadata": {
  "kernelspec": {
   "display_name": "venv",
   "language": "python",
   "name": "python3"
  },
  "language_info": {
   "codemirror_mode": {
    "name": "ipython",
    "version": 3
   },
   "file_extension": ".py",
   "mimetype": "text/x-python",
   "name": "python",
   "nbconvert_exporter": "python",
   "pygments_lexer": "ipython3",
   "version": "3.10.12"
  }
 },
 "nbformat": 4,
 "nbformat_minor": 2
}
