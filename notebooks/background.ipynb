{
 "cells": [
  {
   "cell_type": "code",
   "execution_count": 2,
   "metadata": {},
   "outputs": [],
   "source": [
    "import uproot3 as up3\n",
    "import numpy as np\n",
    "import pandas as pd\n",
    "import matplotlib.pyplot as plt"
   ]
  },
  {
   "cell_type": "markdown",
   "metadata": {},
   "source": [
    "# Background\n",
    "* Study the background events\n",
    "* For now : cut 0 tracks 1 shower\n",
    "* study angles -> can we use $cos(\\theta_\\text{NuMI})$ again?"
   ]
  },
  {
   "cell_type": "code",
   "execution_count": 3,
   "metadata": {},
   "outputs": [],
   "source": [
    "bkg_path = \"../data/root/background/\"\n",
    "bkg_incryo = up3.open(bkg_path+\"run1_NuMI_nu_overlay_with_weights.root\") # is this the right file?\n",
    "bkg_dirt = up3.open(bkg_path+\"run1_NuMI_dirt_with_weights.root\")\n",
    "bkg_beamoff = up3.open(bkg_path+\"run1_NuMI_offbeam_full_set_sp.root\")"
   ]
  }
 ],
 "metadata": {
  "kernelspec": {
   "display_name": "venv",
   "language": "python",
   "name": "python3"
  },
  "language_info": {
   "codemirror_mode": {
    "name": "ipython",
    "version": 3
   },
   "file_extension": ".py",
   "mimetype": "text/x-python",
   "name": "python",
   "nbconvert_exporter": "python",
   "pygments_lexer": "ipython3",
   "version": "3.10.12"
  }
 },
 "nbformat": 4,
 "nbformat_minor": 2
}
